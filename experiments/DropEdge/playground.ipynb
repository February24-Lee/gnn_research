{
 "metadata": {
  "language_info": {
   "codemirror_mode": {
    "name": "ipython",
    "version": 3
   },
   "file_extension": ".py",
   "mimetype": "text/x-python",
   "name": "python",
   "nbconvert_exporter": "python",
   "pygments_lexer": "ipython3",
   "version": "3.6.13"
  },
  "orig_nbformat": 4,
  "kernelspec": {
   "name": "python3",
   "display_name": "Python 3.6.13 64-bit ('gnn': conda)"
  },
  "interpreter": {
   "hash": "f6fde5685ea5e6b43f8b6848956a6c29ad9058cc07a5999dd6cb0f38316e93fd"
  }
 },
 "nbformat": 4,
 "nbformat_minor": 2,
 "cells": [
  {
   "source": [
    "# Experiments about DropEdge.\n",
    "* 무엇을 봐야하지\n"
   ],
   "cell_type": "markdown",
   "metadata": {}
  }
 ]
}