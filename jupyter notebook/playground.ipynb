{
 "cells": [
  {
   "cell_type": "code",
   "execution_count": 1,
   "metadata": {},
   "outputs": [],
   "source": [
    "%load_ext autoreload\n",
    "%autoreload 2"
   ]
  },
  {
   "cell_type": "code",
   "execution_count": 15,
   "metadata": {},
   "outputs": [],
   "source": [
    "import sys, os, inspect\n",
    "currentdir = os.path.dirname(os.path.abspath(inspect.getfile(inspect.currentframe())))\n",
    "parentdir = os.path.dirname(currentdir)\n",
    "#sys.path.insert(0, parentdir)"
   ]
  },
  {
   "cell_type": "code",
   "execution_count": 18,
   "metadata": {},
   "outputs": [
    {
     "output_type": "execute_result",
     "data": {
      "text/plain": [
       "'/home/ubuntu/workspace'"
      ]
     },
     "metadata": {},
     "execution_count": 18
    }
   ],
   "source": [
    "os.path.dirname(parentdir)"
   ]
  },
  {
   "cell_type": "code",
   "execution_count": 17,
   "metadata": {},
   "outputs": [
    {
     "output_type": "execute_result",
     "data": {
      "text/plain": [
       "'/home/ubuntu/workspace/gnn_research'"
      ]
     },
     "metadata": {},
     "execution_count": 17
    }
   ],
   "source": [
    "parentdir"
   ]
  },
  {
   "cell_type": "code",
   "execution_count": 4,
   "metadata": {},
   "outputs": [],
   "source": [
    "import sys\n",
    "sys.path.append('..')\n",
    "from src.dataset import *\n",
    "from src.model import GAT\n",
    "\n",
    "import torch"
   ]
  },
  {
   "cell_type": "code",
   "execution_count": 5,
   "metadata": {},
   "outputs": [
    {
     "output_type": "execute_result",
     "data": {
      "text/plain": [
       "{'citeseer': src.dataset.CiteSeer.citeSeer_pl,\n",
       " 'core_ml': src.dataset.Cora_ml.cora_ml_pl,\n",
       " 'pumbed': src.dataset.Pubmed.pubmed_pl,\n",
       " 'arxiv': src.dataset.ArXiv.arxiv_pl,\n",
       " 'flicker': src.dataset.Flicker.flicker_pl,\n",
       " 'products': src.dataset.Products.products_pl}"
      ]
     },
     "metadata": {},
     "execution_count": 5
    }
   ],
   "source": [
    "DATASET_LIST"
   ]
  },
  {
   "cell_type": "code",
   "execution_count": 11,
   "metadata": {},
   "outputs": [
    {
     "output_type": "execute_result",
     "data": {
      "text/plain": [
       "Data(edge_index=[2, 9104], test_mask=[3327], train_mask=[3327], val_mask=[3327], x=[3327, 3703], y=[3327])"
      ]
     },
     "metadata": {},
     "execution_count": 11
    }
   ],
   "source": [
    "cite = list(DATASET_LIST.values())[0](data_path='../data').dataset\n",
    "cite[0]"
   ]
  },
  {
   "cell_type": "code",
   "execution_count": 12,
   "metadata": {},
   "outputs": [
    {
     "data": {
      "text/plain": [
       "Data(edge_index=[2, 16316], x=[2995, 2879], y=[2995])"
      ]
     },
     "execution_count": 12,
     "metadata": {},
     "output_type": "execute_result"
    }
   ],
   "source": [
    "cora = list(DATASET_LIST.values())[1](data_path='data').dataset\n",
    "cora[0]"
   ]
  },
  {
   "cell_type": "code",
   "execution_count": 13,
   "metadata": {},
   "outputs": [
    {
     "data": {
      "text/plain": [
       "Data(edge_index=[2, 899756], test_mask=[89250], train_mask=[89250], val_mask=[89250], x=[89250, 500], y=[89250])"
      ]
     },
     "execution_count": 13,
     "metadata": {},
     "output_type": "execute_result"
    }
   ],
   "source": [
    "flicker = list(DATASET_LIST.values())[-2](data_path='data').dataset\n",
    "flicker[0]"
   ]
  },
  {
   "cell_type": "code",
   "execution_count": 14,
   "metadata": {},
   "outputs": [
    {
     "data": {
      "text/plain": [
       "Data(edge_index=[2, 88648], x=[19717, 500], y=[19717])"
      ]
     },
     "execution_count": 14,
     "metadata": {},
     "output_type": "execute_result"
    }
   ],
   "source": [
    "pumbed = list(DATASET_LIST.values())[2](data_path='data').dataset\n",
    "pumbed[0]"
   ]
  },
  {
   "cell_type": "code",
   "execution_count": null,
   "metadata": {},
   "outputs": [],
   "source": []
  }
 ],
 "metadata": {
  "interpreter": {
   "hash": "f6fde5685ea5e6b43f8b6848956a6c29ad9058cc07a5999dd6cb0f38316e93fd"
  },
  "kernelspec": {
   "name": "python3",
   "display_name": "Python 3.6.13 64-bit ('gnn': conda)"
  },
  "language_info": {
   "codemirror_mode": {
    "name": "ipython",
    "version": 3
   },
   "file_extension": ".py",
   "mimetype": "text/x-python",
   "name": "python",
   "nbconvert_exporter": "python",
   "pygments_lexer": "ipython3",
   "version": "3.6.13"
  },
  "metadata": {
   "interpreter": {
    "hash": "f6fde5685ea5e6b43f8b6848956a6c29ad9058cc07a5999dd6cb0f38316e93fd"
   }
  }
 },
 "nbformat": 4,
 "nbformat_minor": 2
}