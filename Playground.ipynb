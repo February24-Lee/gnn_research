{
 "cells": [
  {
   "cell_type": "code",
   "execution_count": 160,
   "id": "b611f256",
   "metadata": {},
   "outputs": [
    {
     "name": "stdout",
     "output_type": "stream",
     "text": [
      "The autoreload extension is already loaded. To reload it, use:\n",
      "  %reload_ext autoreload\n"
     ]
    }
   ],
   "source": [
    "%load_ext autoreload\n",
    "%autoreload 2"
   ]
  },
  {
   "cell_type": "code",
   "execution_count": 2,
   "id": "002c385c",
   "metadata": {},
   "outputs": [],
   "source": [
    "import torch.nn as nn\n",
    "import torch\n",
    "\n",
    "import torch_geometric as tg\n",
    "from torch_geometric.transforms import NormalizeFeatures\n",
    "from ogb.nodeproppred import PygNodePropPredDataset"
   ]
  },
  {
   "cell_type": "markdown",
   "id": "295c63b2",
   "metadata": {},
   "source": [
    "### Check Dataloader"
   ]
  },
  {
   "cell_type": "code",
   "execution_count": 98,
   "id": "5431516d",
   "metadata": {},
   "outputs": [],
   "source": [
    "from src.dataset import *"
   ]
  },
  {
   "cell_type": "code",
   "execution_count": 106,
   "id": "64895813",
   "metadata": {},
   "outputs": [],
   "source": [
    "dir_path = 'data'\n",
    "\n",
    "citseer = citeSeer_pl(data_path = dir_path)\n",
    "cora_ml = cora_ml_pl(data_path = dir_path)\n",
    "pubmed = pubmed_pl(data_path = dir_path)\n",
    "arxiv = arxiv_pl(data_path = dir_path)\n",
    "flicker = flicker_pl(data_path = dir_path)\n",
    "products = products_pl(data_path = dir_path)"
   ]
  },
  {
   "cell_type": "markdown",
   "id": "8233a55a",
   "metadata": {},
   "source": [
    "### Model"
   ]
  },
  {
   "cell_type": "code",
   "execution_count": 216,
   "id": "7bb0ff63",
   "metadata": {},
   "outputs": [],
   "source": [
    "from src.dataset.base import split_train_test_val"
   ]
  },
  {
   "cell_type": "code",
   "execution_count": 156,
   "id": "c093ed8f",
   "metadata": {},
   "outputs": [],
   "source": [
    "def split_train_test_val(label_dataset : torch.Tensor,\n",
    "                        classes_num: int, \n",
    "                        each_class_num : int = 20,\n",
    "                        val_num : int = 500):\n",
    "    class_list = np.arange(classes_num)\n",
    "    train_idx, test_idx, val_idx = torch.zeros(len(label_dataset)), torch.ones(len(label_dataset)), torch.zeros(len(label_dataset))\n",
    "    find_idx_fn = lambda x : torch.nonzero(label_dataset == x, as_tuple=True)[0][:each_class_num]\n",
    "    for class_idx in class_list : \n",
    "        idx = find_idx_fn(class_idx)\n",
    "        train_idx[idx] = 1\n",
    "        test_idx[idx] = 0\n",
    "        \n",
    "    _val_idx = torch.nonzero(train_idx, as_tuple=True)[0][:val_num]\n",
    "    train_idx[_val_idx] = 0\n",
    "    val_idx[_val_idx] = 1\n",
    "    return train_idx.bool(), test_idx.bool(), val_idx.bool()"
   ]
  },
  {
   "cell_type": "code",
   "execution_count": 200,
   "id": "5ae61645",
   "metadata": {},
   "outputs": [],
   "source": [
    "val_num = 500\n",
    "classes_num = 7\n",
    "each_class_num = 20\n",
    "label_dataset = cora_ml.dataset[0].y\n",
    "class_list = np.arange(classes_num)\n",
    "train_idx, test_idx, val_idx = torch.zeros(len(label_dataset)), torch.ones(len(label_dataset)), torch.zeros(len(label_dataset))\n",
    "find_idx_fn = lambda x : torch.nonzero(label_dataset == x, as_tuple=True)[0][:each_class_num]"
   ]
  },
  {
   "cell_type": "code",
   "execution_count": 202,
   "id": "a46859fb",
   "metadata": {},
   "outputs": [],
   "source": [
    "idx = find_idx_fn(class_idx)"
   ]
  },
  {
   "cell_type": "code",
   "execution_count": 205,
   "id": "a688c14c",
   "metadata": {},
   "outputs": [],
   "source": [
    "train_idx[idx] = 1"
   ]
  },
  {
   "cell_type": "code",
   "execution_count": 209,
   "id": "636f9d8e",
   "metadata": {},
   "outputs": [
    {
     "data": {
      "text/plain": [
       "tensor(20)"
      ]
     },
     "execution_count": 209,
     "metadata": {},
     "output_type": "execute_result"
    }
   ],
   "source": [
    "sum(train_idx == 1)"
   ]
  },
  {
   "cell_type": "code",
   "execution_count": 75,
   "id": "c8ffa843",
   "metadata": {},
   "outputs": [],
   "source": [
    "model = GAT_pl()"
   ]
  },
  {
   "cell_type": "markdown",
   "id": "df0041c0",
   "metadata": {},
   "source": [
    "### Test about Weights _and_Bias"
   ]
  },
  {
   "cell_type": "code",
   "execution_count": null,
   "id": "e1d446f6",
   "metadata": {},
   "outputs": [],
   "source": []
  }
 ],
 "metadata": {
  "kernelspec": {
   "display_name": "gnn_research",
   "language": "python",
   "name": "gnn_research"
  },
  "language_info": {
   "codemirror_mode": {
    "name": "ipython",
    "version": 3
   },
   "file_extension": ".py",
   "mimetype": "text/x-python",
   "name": "python",
   "nbconvert_exporter": "python",
   "pygments_lexer": "ipython3",
   "version": "3.8.0"
  }
 },
 "nbformat": 4,
 "nbformat_minor": 5
}
